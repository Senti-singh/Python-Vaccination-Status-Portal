{
 "cells": [
  {
   "cell_type": "code",
   "execution_count": 12,
   "id": "4a6f1aee-e120-4cf1-a061-fdc5fcd3b301",
   "metadata": {
    "tags": []
   },
   "outputs": [],
   "source": [
    "# Importing the pandas library and aliasing it as 'pd'\n",
    "import pandas as pd\n",
    "\n",
    "# Importing the datetime class and the timedelta class from the datetime module\n",
    "from datetime import datetime, timedelta"
   ]
  },
  {
   "cell_type": "code",
   "execution_count": 13,
   "id": "40522ee8-282f-4757-a656-9629b2e809c8",
   "metadata": {
    "tags": []
   },
   "outputs": [],
   "source": [
    "# Read data from the Excel file into a DataFrame\n",
    "df = pd.read_excel(\"vaccine_data.xlsx\")"
   ]
  },
  {
   "cell_type": "code",
   "execution_count": 14,
   "id": "5b0b48a6-2aae-4290-968a-a3bb5c0258b8",
   "metadata": {
    "tags": []
   },
   "outputs": [],
   "source": [
    "def get_vaccination_status(data):\n",
    "    # Check if the date of the 2nd dose is available\n",
    "    if pd.notna(data['date of 2nd dose']):\n",
    "        return \"Congratulations! You are fully vaccinated\"\n",
    "    \n",
    "    # Check if the date of the 1st dose is not available\n",
    "    elif pd.isna(data['date of 1st dose']):\n",
    "        return \"Please take your first dose at the earliest\"\n",
    "    \n",
    "    else:\n",
    "        # Retrieve the date of the 1st dose\n",
    "        first_dose_date = data['date of 1st dose']\n",
    "        \n",
    "        # Get today's date\n",
    "        today = datetime.now()\n",
    "        \n",
    "        # Calculate the next dose date (90 days after the 1st dose)\n",
    "        next_dose_date = first_dose_date + timedelta(days=90)\n",
    "\n",
    "        # Check if more than 90 days have passed since the 1st dose\n",
    "        if (today - first_dose_date).days > 90:\n",
    "            # Return message indicating the user needs to take the 2nd dose\n",
    "            return f\"You have taken your first dose on {first_dose_date.strftime('%d-%m-%Y')}, please take your 2nd dose at earliest.\"\n",
    "        else:\n",
    "            # Return message indicating when the user should take the 2nd dose\n",
    "            return f\"You have taken your first dose on {first_dose_date.strftime('%d-%m-%Y')}, please take your 2nd dose on or after {next_dose_date.strftime('%d-%m-%Y')}.\"\n"
   ]
  },
  {
   "cell_type": "code",
   "execution_count": 15,
   "id": "09f028f8-28ef-402f-96ed-52c1e60da619",
   "metadata": {
    "tags": []
   },
   "outputs": [
    {
     "name": "stdin",
     "output_type": "stream",
     "text": [
      " p001\n"
     ]
    },
    {
     "name": "stdout",
     "output_type": "stream",
     "text": [
      "Hii Chandler Congratulations! You are fully vaccinated\n"
     ]
    }
   ],
   "source": [
    "# Take user input for userid\n",
    "inp = input()\n",
    "\n",
    "# Apply the get_vaccination_status function to each row in the DataFrame and store the result in a new column 'vaccination_status'\n",
    "df['vaccination_status'] = df.apply(get_vaccination_status, axis=1)\n",
    "\n",
    "# Retrieve the name and vaccination status of the user with the given userid\n",
    "Name = df[df['userid']==inp].iloc[0]['name']\n",
    "Vacc_Status =  df[df['userid']==inp].iloc[0]['vaccination_status']\n",
    "\n",
    "# Print a message containing the user's name and vaccination status\n",
    "print(\"Hii\",Name,Vacc_Status)"
   ]
  }
 ],
 "metadata": {
  "kernelspec": {
   "display_name": "Python 3 (ipykernel)",
   "language": "python",
   "name": "python3"
  },
  "language_info": {
   "codemirror_mode": {
    "name": "ipython",
    "version": 3
   },
   "file_extension": ".py",
   "mimetype": "text/x-python",
   "name": "python",
   "nbconvert_exporter": "python",
   "pygments_lexer": "ipython3",
   "version": "3.11.4"
  }
 },
 "nbformat": 4,
 "nbformat_minor": 5
}
